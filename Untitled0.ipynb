{
 "cells": [
  {
   "cell_type": "code",
   "execution_count": 1,
   "id": "19a72724",
   "metadata": {
    "_cell_guid": "b1076dfc-b9ad-4769-8c92-a6c4dae69d19",
    "_uuid": "8f2839f25d086af736a60e9eeb907d3b93b6e0e5",
    "execution": {
     "iopub.execute_input": "2025-09-06T14:34:04.843722Z",
     "iopub.status.busy": "2025-09-06T14:34:04.843319Z",
     "iopub.status.idle": "2025-09-06T14:34:07.146185Z",
     "shell.execute_reply": "2025-09-06T14:34:07.144911Z"
    },
    "papermill": {
     "duration": 2.309633,
     "end_time": "2025-09-06T14:34:07.148429",
     "exception": false,
     "start_time": "2025-09-06T14:34:04.838796",
     "status": "completed"
    },
    "tags": []
   },
   "outputs": [],
   "source": [
    "# This Python 3 environment comes with many helpful analytics libraries installed\n",
    "# It is defined by the kaggle/python Docker image: https://github.com/kaggle/docker-python\n",
    "# For example, here's several helpful packages to load\n",
    "\n",
    "import numpy as np # linear algebra\n",
    "import pandas as pd # data processing, CSV file I/O (e.g. pd.read_csv)\n",
    "\n",
    "# Input data files are available in the read-only \"../input/\" directory\n",
    "# For example, running this (by clicking run or pressing Shift+Enter) will list all files under the input directory\n",
    "\n",
    "import os\n",
    "for dirname, _, filenames in os.walk('/kaggle/input'):\n",
    "    for filename in filenames:\n",
    "        print(os.path.join(dirname, filename))\n",
    "\n",
    "# You can write up to 20GB to the current directory (/kaggle/working/) that gets preserved as output when you create a version using \"Save & Run All\" \n",
    "# You can also write temporary files to /kaggle/temp/, but they won't be saved outside of the current session"
   ]
  },
  {
   "cell_type": "code",
   "execution_count": 2,
   "id": "81d448fc",
   "metadata": {
    "execution": {
     "iopub.execute_input": "2025-09-06T14:34:07.155617Z",
     "iopub.status.busy": "2025-09-06T14:34:07.155128Z",
     "iopub.status.idle": "2025-09-06T14:34:16.759783Z",
     "shell.execute_reply": "2025-09-06T14:34:16.758473Z"
    },
    "papermill": {
     "duration": 9.610211,
     "end_time": "2025-09-06T14:34:16.761862",
     "exception": false,
     "start_time": "2025-09-06T14:34:07.151651",
     "status": "completed"
    },
    "tags": []
   },
   "outputs": [
    {
     "name": "stdout",
     "output_type": "stream",
     "text": [
      "Collecting ta\r\n",
      "  Downloading ta-0.11.0.tar.gz (25 kB)\r\n",
      "  Preparing metadata (setup.py) ... \u001b[?25l\u001b[?25hdone\r\n",
      "Requirement already satisfied: numpy in /usr/local/lib/python3.11/dist-packages (from ta) (1.26.4)\r\n",
      "Requirement already satisfied: pandas in /usr/local/lib/python3.11/dist-packages (from ta) (2.2.3)\r\n",
      "Requirement already satisfied: mkl_fft in /usr/local/lib/python3.11/dist-packages (from numpy->ta) (1.3.8)\r\n",
      "Requirement already satisfied: mkl_random in /usr/local/lib/python3.11/dist-packages (from numpy->ta) (1.2.4)\r\n",
      "Requirement already satisfied: mkl_umath in /usr/local/lib/python3.11/dist-packages (from numpy->ta) (0.1.1)\r\n",
      "Requirement already satisfied: mkl in /usr/local/lib/python3.11/dist-packages (from numpy->ta) (2025.2.0)\r\n",
      "Requirement already satisfied: tbb4py in /usr/local/lib/python3.11/dist-packages (from numpy->ta) (2022.2.0)\r\n",
      "Requirement already satisfied: mkl-service in /usr/local/lib/python3.11/dist-packages (from numpy->ta) (2.4.1)\r\n",
      "Requirement already satisfied: python-dateutil>=2.8.2 in /usr/local/lib/python3.11/dist-packages (from pandas->ta) (2.9.0.post0)\r\n",
      "Requirement already satisfied: pytz>=2020.1 in /usr/local/lib/python3.11/dist-packages (from pandas->ta) (2025.2)\r\n",
      "Requirement already satisfied: tzdata>=2022.7 in /usr/local/lib/python3.11/dist-packages (from pandas->ta) (2025.2)\r\n",
      "Requirement already satisfied: six>=1.5 in /usr/local/lib/python3.11/dist-packages (from python-dateutil>=2.8.2->pandas->ta) (1.17.0)\r\n",
      "Requirement already satisfied: intel-openmp<2026,>=2024 in /usr/local/lib/python3.11/dist-packages (from mkl->numpy->ta) (2024.2.0)\r\n",
      "Requirement already satisfied: tbb==2022.* in /usr/local/lib/python3.11/dist-packages (from mkl->numpy->ta) (2022.2.0)\r\n",
      "Requirement already satisfied: tcmlib==1.* in /usr/local/lib/python3.11/dist-packages (from tbb==2022.*->mkl->numpy->ta) (1.4.0)\r\n",
      "Requirement already satisfied: intel-cmplr-lib-rt in /usr/local/lib/python3.11/dist-packages (from mkl_umath->numpy->ta) (2024.2.0)\r\n",
      "Requirement already satisfied: intel-cmplr-lib-ur==2024.2.0 in /usr/local/lib/python3.11/dist-packages (from intel-openmp<2026,>=2024->mkl->numpy->ta) (2024.2.0)\r\n",
      "Building wheels for collected packages: ta\r\n",
      "  Building wheel for ta (setup.py) ... \u001b[?25l\u001b[?25hdone\r\n",
      "  Created wheel for ta: filename=ta-0.11.0-py3-none-any.whl size=29412 sha256=5ea0357bebeaf39c4a87537d699f97c72e4f8aaa4ea83ded109b2c383bfb541e\r\n",
      "  Stored in directory: /root/.cache/pip/wheels/a1/d7/29/7781cc5eb9a3659d032d7d15bdd0f49d07d2b24fec29f44bc4\r\n",
      "Successfully built ta\r\n",
      "Installing collected packages: ta\r\n",
      "Successfully installed ta-0.11.0\r\n"
     ]
    }
   ],
   "source": [
    "!pip install ta"
   ]
  },
  {
   "cell_type": "code",
   "execution_count": 3,
   "id": "ca6dca39",
   "metadata": {
    "execution": {
     "iopub.execute_input": "2025-09-06T14:34:16.773793Z",
     "iopub.status.busy": "2025-09-06T14:34:16.771690Z",
     "iopub.status.idle": "2025-09-06T14:34:18.884164Z",
     "shell.execute_reply": "2025-09-06T14:34:18.882966Z"
    },
    "papermill": {
     "duration": 2.120319,
     "end_time": "2025-09-06T14:34:18.886148",
     "exception": false,
     "start_time": "2025-09-06T14:34:16.765829",
     "status": "completed"
    },
    "tags": []
   },
   "outputs": [
    {
     "name": "stderr",
     "output_type": "stream",
     "text": [
      "/tmp/ipykernel_13/2173542926.py:4: FutureWarning: YF.download() has changed argument auto_adjust default to True\n",
      "  df = yf.download(\"AAPL\", start=\"2015-01-01\", end=\"2023-01-01\")\n",
      "[*********************100%***********************]  1 of 1 completed"
     ]
    },
    {
     "name": "stdout",
     "output_type": "stream",
     "text": [
      "Price           Close       High        Low       Open     Volume\n",
      "Ticker           AAPL       AAPL       AAPL       AAPL       AAPL\n",
      "Date                                                             \n",
      "2015-01-02  24.261051  24.729274  23.821675  24.718178  212818400\n",
      "2015-01-05  23.577581  24.110158  23.391181  24.030271  257142000\n",
      "2015-01-06  23.579792  23.839422  23.218083  23.641926  263188400\n",
      "2015-01-07  23.910433  24.010290  23.677430  23.788384  160423600\n",
      "2015-01-08  24.829121  24.886817  24.121238  24.238850  237458000\n"
     ]
    },
    {
     "name": "stderr",
     "output_type": "stream",
     "text": [
      "\n"
     ]
    }
   ],
   "source": [
    "import yfinance as yf\n",
    "\n",
    "# Example: Apple stock 2015–2023\n",
    "df = yf.download(\"AAPL\", start=\"2015-01-01\", end=\"2023-01-01\")\n",
    "print(df.head())\n",
    "\n"
   ]
  },
  {
   "cell_type": "code",
   "execution_count": 4,
   "id": "0da25af8",
   "metadata": {
    "execution": {
     "iopub.execute_input": "2025-09-06T14:34:18.894597Z",
     "iopub.status.busy": "2025-09-06T14:34:18.894069Z",
     "iopub.status.idle": "2025-09-06T14:34:18.984785Z",
     "shell.execute_reply": "2025-09-06T14:34:18.983412Z"
    },
    "papermill": {
     "duration": 0.097376,
     "end_time": "2025-09-06T14:34:18.987051",
     "exception": false,
     "start_time": "2025-09-06T14:34:18.889675",
     "status": "completed"
    },
    "tags": []
   },
   "outputs": [
    {
     "name": "stderr",
     "output_type": "stream",
     "text": [
      "/tmp/ipykernel_13/4060330659.py:6: FutureWarning: YF.download() has changed argument auto_adjust default to True\n",
      "  df = yf.download(\"AAPL\", start=\"2015-01-01\", end=\"2023-01-01\")\n",
      "[*********************100%***********************]  1 of 1 completed"
     ]
    },
    {
     "name": "stdout",
     "output_type": "stream",
     "text": [
      "Price           Close       High        Low       Open     Volume        rsi  \\\n",
      "Date                                                                           \n",
      "2015-03-16  27.836653  27.836653  27.373267  27.598276  143497200  51.177436   \n",
      "2015-03-17  28.302280  28.364659  27.992613  28.048309  204092400  56.042722   \n",
      "2015-03-18  28.620852  28.774572  28.153009  28.293361  261083600  59.049487   \n",
      "2015-03-19  28.404749  28.794618  28.382471  28.683227  183238000  56.239228   \n",
      "2015-03-20  28.048304  28.605258  27.883445  28.571842  274780400  51.855509   \n",
      "\n",
      "Price           macd      ema20      ema50   returns  target  \n",
      "Date                                                          \n",
      "2015-03-16  0.215955  27.932733  27.004461  0.011004       1  \n",
      "2015-03-17  0.225256  27.967928  27.055356  0.016727       1  \n",
      "2015-03-18  0.255389  28.030111  27.116748  0.011256       0  \n",
      "2015-03-19  0.258848  28.065791  27.167258 -0.007551       0  \n",
      "2015-03-20  0.230174  28.064126  27.201809 -0.012549       1  \n"
     ]
    },
    {
     "name": "stderr",
     "output_type": "stream",
     "text": [
      "\n",
      "/usr/local/lib/python3.11/dist-packages/pandas/core/computation/expressions.py:73: RuntimeWarning: invalid value encountered in greater\n",
      "  return op(a, b)\n",
      "/usr/local/lib/python3.11/dist-packages/pandas/core/computation/expressions.py:73: RuntimeWarning: invalid value encountered in less\n",
      "  return op(a, b)\n",
      "/usr/local/lib/python3.11/dist-packages/pandas/core/computation/expressions.py:73: RuntimeWarning: invalid value encountered in greater\n",
      "  return op(a, b)\n"
     ]
    }
   ],
   "source": [
    "import yfinance as yf\n",
    "import pandas as pd\n",
    "import ta\n",
    "\n",
    "# Download stock data\n",
    "df = yf.download(\"AAPL\", start=\"2015-01-01\", end=\"2023-01-01\")\n",
    "\n",
    "# Flatten column names (in case of MultiIndex)\n",
    "df.columns = df.columns.get_level_values(0)\n",
    "\n",
    "# Ensure Close is a Series\n",
    "close = df['Close'].squeeze()\n",
    "\n",
    "# RSI\n",
    "df['rsi'] = ta.momentum.RSIIndicator(close, window=14).rsi()\n",
    "\n",
    "# MACD\n",
    "df['macd'] = ta.trend.MACD(close).macd()\n",
    "\n",
    "# EMAs\n",
    "df['ema20'] = ta.trend.EMAIndicator(close, window=20).ema_indicator()\n",
    "df['ema50'] = ta.trend.EMAIndicator(close, window=50).ema_indicator()\n",
    "\n",
    "# Returns\n",
    "df['returns'] = close.pct_change()\n",
    "\n",
    "# Drop missing values\n",
    "df.dropna(inplace=True)\n",
    "\n",
    "# Target: 1 if tomorrow’s close > today, else 0\n",
    "df['target'] = (close.shift(-1) > close).astype(int)\n",
    "\n",
    "print(df.head())\n"
   ]
  },
  {
   "cell_type": "code",
   "execution_count": 5,
   "id": "45efb07c",
   "metadata": {
    "execution": {
     "iopub.execute_input": "2025-09-06T14:34:18.996207Z",
     "iopub.status.busy": "2025-09-06T14:34:18.995861Z",
     "iopub.status.idle": "2025-09-06T14:34:19.003843Z",
     "shell.execute_reply": "2025-09-06T14:34:19.002481Z"
    },
    "papermill": {
     "duration": 0.014805,
     "end_time": "2025-09-06T14:34:19.005702",
     "exception": false,
     "start_time": "2025-09-06T14:34:18.990897",
     "status": "completed"
    },
    "tags": []
   },
   "outputs": [
    {
     "name": "stderr",
     "output_type": "stream",
     "text": [
      "/usr/local/lib/python3.11/dist-packages/pandas/core/computation/expressions.py:73: RuntimeWarning: invalid value encountered in greater\n",
      "  return op(a, b)\n"
     ]
    }
   ],
   "source": [
    "# If next day's close > today → 1 (Buy), else 0 (Sell)\n",
    "df['target'] = (df['Close'].shift(-1) > df['Close']).astype(int)\n"
   ]
  },
  {
   "cell_type": "code",
   "execution_count": 6,
   "id": "613c4d65",
   "metadata": {
    "execution": {
     "iopub.execute_input": "2025-09-06T14:34:19.015674Z",
     "iopub.status.busy": "2025-09-06T14:34:19.015178Z",
     "iopub.status.idle": "2025-09-06T14:34:22.347057Z",
     "shell.execute_reply": "2025-09-06T14:34:22.343784Z"
    },
    "papermill": {
     "duration": 3.339589,
     "end_time": "2025-09-06T14:34:22.349563",
     "exception": false,
     "start_time": "2025-09-06T14:34:19.009974",
     "status": "completed"
    },
    "tags": []
   },
   "outputs": [
    {
     "name": "stdout",
     "output_type": "stream",
     "text": [
      "Accuracy: 0.4961832061068702\n"
     ]
    }
   ],
   "source": [
    "from sklearn.model_selection import train_test_split\n",
    "from sklearn.ensemble import RandomForestClassifier\n",
    "from sklearn.metrics import accuracy_score\n",
    "\n",
    "# Features and Target\n",
    "X = df[['rsi', 'macd', 'ema20', 'ema50', 'returns']]\n",
    "y = df['target']\n",
    "\n",
    "# Train-Test Split\n",
    "X_train, X_test, y_train, y_test = train_test_split(X, y, test_size=0.2, shuffle=False)\n",
    "\n",
    "# Model\n",
    "model = RandomForestClassifier(n_estimators=100, random_state=42)\n",
    "model.fit(X_train, y_train)\n",
    "\n",
    "# Prediction\n",
    "y_pred = model.predict(X_test)\n",
    "print(\"Accuracy:\", accuracy_score(y_test, y_pred))\n"
   ]
  },
  {
   "cell_type": "code",
   "execution_count": 7,
   "id": "6f9d4123",
   "metadata": {
    "execution": {
     "iopub.execute_input": "2025-09-06T14:34:22.362185Z",
     "iopub.status.busy": "2025-09-06T14:34:22.361152Z",
     "iopub.status.idle": "2025-09-06T14:34:23.090632Z",
     "shell.execute_reply": "2025-09-06T14:34:23.089447Z"
    },
    "papermill": {
     "duration": 0.738719,
     "end_time": "2025-09-06T14:34:23.092692",
     "exception": false,
     "start_time": "2025-09-06T14:34:22.353973",
     "status": "completed"
    },
    "tags": []
   },
   "outputs": [
    {
     "data": {
      "text/plain": [
       "<Axes: title={'center': 'Strategy vs Market'}, xlabel='Date'>"
      ]
     },
     "execution_count": 7,
     "metadata": {},
     "output_type": "execute_result"
    },
    {
     "data": {
      "image/png": "[encoded data removed]",
      "text/plain": [
       "<Figure size 640x480 with 1 Axes>"
      ]
     },
     "metadata": {},
     "output_type": "display_data"
    }
   ],
   "source": [
    "# Add predictions\n",
    "df['pred'] = model.predict(X)\n",
    "\n",
    "# Strategy: Buy when pred=1, else stay out\n",
    "df['strategy_return'] = df['pred'].shift(1) * df['returns']\n",
    "\n",
    "# Cumulative Returns\n",
    "df[['returns', 'strategy_return']].cumsum().plot(title=\"Strategy vs Market\")\n"
   ]
  },
  {
   "cell_type": "code",
   "execution_count": null,
   "id": "514f6af3",
   "metadata": {
    "papermill": {
     "duration": 0.004083,
     "end_time": "2025-09-06T14:34:23.101919",
     "exception": false,
     "start_time": "2025-09-06T14:34:23.097836",
     "status": "completed"
    },
    "tags": []
   },
   "outputs": [],
   "source": []
  }
 ],
 "metadata": {
  "kaggle": {
   "accelerator": "none",
   "dataSources": [],
   "dockerImageVersionId": 31089,
   "isGpuEnabled": false,
   "isInternetEnabled": true,
   "language": "python",
   "sourceType": "notebook"
  },
  "kernelspec": {
   "display_name": "Python 3",
   "language": "python",
   "name": "python3"
  },
  "language_info": {
   "codemirror_mode": {
    "name": "ipython",
    "version": 3
   },
   "file_extension": ".py",
   "mimetype": "text/x-python",
   "name": "python",
   "nbconvert_exporter": "python",
   "pygments_lexer": "ipython3",
   "version": "3.11.13"
  },
  "papermill": {
   "default_parameters": {},
   "duration": 26.142891,
   "end_time": "2025-09-06T14:34:23.929307",
   "environment_variables": {},
   "exception": null,
   "input_path": "__notebook__.ipynb",
   "output_path": "__notebook__.ipynb",
   "parameters": {},
   "start_time": "2025-09-06T14:33:57.786416",
   "version": "2.6.0"
  }
 },
 "nbformat": 4,
 "nbformat_minor": 5
}
