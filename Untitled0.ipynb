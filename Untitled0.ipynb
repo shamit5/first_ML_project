{
  "nbformat": 4,
  "nbformat_minor": 0,
  "metadata": {
    "colab": {
      "provenance": [],
      "mount_file_id": "1wDsKkZzZt92-YuX8xkCLkqkBTrmt4kV7",
      "authorship_tag": "ABX9TyNsw0TfYQQQAfjfUaSQjonh",
      "include_colab_link": true
    },
    "kernelspec": {
      "name": "python3",
      "display_name": "Python 3"
    },
    "language_info": {
      "name": "python"
    }
  },
  "cells": [
    {
      "cell_type": "markdown",
      "metadata": {
        "id": "view-in-github",
        "colab_type": "text"
      },
      "source": [
        "<a href=\"https://colab.research.google.com/github/shamit5/shamit5/blob/main/Untitled0.ipynb\" target=\"_parent\"><img src=\"https://colab.research.google.com/assets/colab-badge.svg\" alt=\"Open In Colab\"/></a>"
      ]
    },
    {
      "cell_type": "code",
      "execution_count": 32,
      "metadata": {
        "id": "MOsttVUUwiE0"
      },
      "outputs": [],
      "source": [
        "import numpy as np\n",
        "import pandas as pd\n",
        "import matplotlib.pyplot as plt\n",
        "import seaborn as sns\n",
        "import warnings\n",
        "warnings.filterwarnings('ignore')"
      ]
    },
    {
      "cell_type": "code",
      "source": [
        "health_data = pd.read_csv('/kidney_disease_dataset.csv')\n",
        "health_data.head()\n",
        "y=health_data.Dialysis_Needed\n",
        "x = health_data.drop('Dialysis_Needed', axis=1)\n",
        "x=pd.get_dummies(x)\n",
        "x.head()\n"
      ],
      "metadata": {
        "colab": {
          "base_uri": "https://localhost:8080/",
          "height": 206
        },
        "id": "dYMoDYMK6XL6",
        "outputId": "9618253f-d765-4552-f3f0-0566a0c26633"
      },
      "execution_count": 33,
      "outputs": [
        {
          "output_type": "execute_result",
          "data": {
            "text/plain": [
              "   Age  Creatinine_Level   BUN  Diabetes  Hypertension   GFR  Urine_Output  \\\n",
              "0   71              0.30  40.9         0             1  46.8        1622.0   \n",
              "1   34              1.79  17.1         0             0  43.8        1428.0   \n",
              "2   80              2.67  15.0         0             1  78.2        1015.0   \n",
              "3   40              0.97  31.1         0             1  92.8        1276.0   \n",
              "4   43              2.05  22.8         1             1  62.2        1154.0   \n",
              "\n",
              "   CKD_Status  \n",
              "0           1  \n",
              "1           1  \n",
              "2           1  \n",
              "3           1  \n",
              "4           0  "
            ],
            "text/html": [
              "\n",
              "  <div id=\"df-0381ead2-5ae1-4869-8014-1c5e1748e725\" class=\"colab-df-container\">\n",
              "    <div>\n",
              "<style scoped>\n",
              "    .dataframe tbody tr th:only-of-type {\n",
              "        vertical-align: middle;\n",
              "    }\n",
              "\n",
              "    .dataframe tbody tr th {\n",
              "        vertical-align: top;\n",
              "    }\n",
              "\n",
              "    .dataframe thead th {\n",
              "        text-align: right;\n",
              "    }\n",
              "</style>\n",
              "<table border=\"1\" class=\"dataframe\">\n",
              "  <thead>\n",
              "    <tr style=\"text-align: right;\">\n",
              "      <th></th>\n",
              "      <th>Age</th>\n",
              "      <th>Creatinine_Level</th>\n",
              "      <th>BUN</th>\n",
              "      <th>Diabetes</th>\n",
              "      <th>Hypertension</th>\n",
              "      <th>GFR</th>\n",
              "      <th>Urine_Output</th>\n",
              "      <th>CKD_Status</th>\n",
              "    </tr>\n",
              "  </thead>\n",
              "  <tbody>\n",
              "    <tr>\n",
              "      <th>0</th>\n",
              "      <td>71</td>\n",
              "      <td>0.30</td>\n",
              "      <td>40.9</td>\n",
              "      <td>0</td>\n",
              "      <td>1</td>\n",
              "      <td>46.8</td>\n",
              "      <td>1622.0</td>\n",
              "      <td>1</td>\n",
              "    </tr>\n",
              "    <tr>\n",
              "      <th>1</th>\n",
              "      <td>34</td>\n",
              "      <td>1.79</td>\n",
              "      <td>17.1</td>\n",
              "      <td>0</td>\n",
              "      <td>0</td>\n",
              "      <td>43.8</td>\n",
              "      <td>1428.0</td>\n",
              "      <td>1</td>\n",
              "    </tr>\n",
              "    <tr>\n",
              "      <th>2</th>\n",
              "      <td>80</td>\n",
              "      <td>2.67</td>\n",
              "      <td>15.0</td>\n",
              "      <td>0</td>\n",
              "      <td>1</td>\n",
              "      <td>78.2</td>\n",
              "      <td>1015.0</td>\n",
              "      <td>1</td>\n",
              "    </tr>\n",
              "    <tr>\n",
              "      <th>3</th>\n",
              "      <td>40</td>\n",
              "      <td>0.97</td>\n",
              "      <td>31.1</td>\n",
              "      <td>0</td>\n",
              "      <td>1</td>\n",
              "      <td>92.8</td>\n",
              "      <td>1276.0</td>\n",
              "      <td>1</td>\n",
              "    </tr>\n",
              "    <tr>\n",
              "      <th>4</th>\n",
              "      <td>43</td>\n",
              "      <td>2.05</td>\n",
              "      <td>22.8</td>\n",
              "      <td>1</td>\n",
              "      <td>1</td>\n",
              "      <td>62.2</td>\n",
              "      <td>1154.0</td>\n",
              "      <td>0</td>\n",
              "    </tr>\n",
              "  </tbody>\n",
              "</table>\n",
              "</div>\n",
              "    <div class=\"colab-df-buttons\">\n",
              "\n",
              "  <div class=\"colab-df-container\">\n",
              "    <button class=\"colab-df-convert\" onclick=\"convertToInteractive('df-0381ead2-5ae1-4869-8014-1c5e1748e725')\"\n",
              "            title=\"Convert this dataframe to an interactive table.\"\n",
              "            style=\"display:none;\">\n",
              "\n",
              "  <svg xmlns=\"http://www.w3.org/2000/svg\" height=\"24px\" viewBox=\"0 -960 960 960\">\n",
              "    <path d=\"M120-120v-720h720v720H120Zm60-500h600v-160H180v160Zm220 220h160v-160H400v160Zm0 220h160v-160H400v160ZM180-400h160v-160H180v160Zm440 0h160v-160H620v160ZM180-180h160v-160H180v160Zm440 0h160v-160H620v160Z\"/>\n",
              "  </svg>\n",
              "    </button>\n",
              "\n",
              "  <style>\n",
              "    .colab-df-container {\n",
              "      display:flex;\n",
              "      gap: 12px;\n",
              "    }\n",
              "\n",
              "    .colab-df-convert {\n",
              "      background-color: #E8F0FE;\n",
              "      border: none;\n",
              "      border-radius: 50%;\n",
              "      cursor: pointer;\n",
              "      display: none;\n",
              "      fill: #1967D2;\n",
              "      height: 32px;\n",
              "      padding: 0 0 0 0;\n",
              "      width: 32px;\n",
              "    }\n",
              "\n",
              "    .colab-df-convert:hover {\n",
              "      background-color: #E2EBFA;\n",
              "      box-shadow: 0px 1px 2px rgba(60, 64, 67, 0.3), 0px 1px 3px 1px rgba(60, 64, 67, 0.15);\n",
              "      fill: #174EA6;\n",
              "    }\n",
              "\n",
              "    .colab-df-buttons div {\n",
              "      margin-bottom: 4px;\n",
              "    }\n",
              "\n",
              "    [theme=dark] .colab-df-convert {\n",
              "      background-color: #3B4455;\n",
              "      fill: #D2E3FC;\n",
              "    }\n",
              "\n",
              "    [theme=dark] .colab-df-convert:hover {\n",
              "      background-color: #434B5C;\n",
              "      box-shadow: 0px 1px 3px 1px rgba(0, 0, 0, 0.15);\n",
              "      filter: drop-shadow(0px 1px 2px rgba(0, 0, 0, 0.3));\n",
              "      fill: #FFFFFF;\n",
              "    }\n",
              "  </style>\n",
              "\n",
              "    <script>\n",
              "      const buttonEl =\n",
              "        document.querySelector('#df-0381ead2-5ae1-4869-8014-1c5e1748e725 button.colab-df-convert');\n",
              "      buttonEl.style.display =\n",
              "        google.colab.kernel.accessAllowed ? 'block' : 'none';\n",
              "\n",
              "      async function convertToInteractive(key) {\n",
              "        const element = document.querySelector('#df-0381ead2-5ae1-4869-8014-1c5e1748e725');\n",
              "        const dataTable =\n",
              "          await google.colab.kernel.invokeFunction('convertToInteractive',\n",
              "                                                    [key], {});\n",
              "        if (!dataTable) return;\n",
              "\n",
              "        const docLinkHtml = 'Like what you see? Visit the ' +\n",
              "          '<a target=\"_blank\" href=https://colab.research.google.com/notebooks/data_table.ipynb>data table notebook</a>'\n",
              "          + ' to learn more about interactive tables.';\n",
              "        element.innerHTML = '';\n",
              "        dataTable['output_type'] = 'display_data';\n",
              "        await google.colab.output.renderOutput(dataTable, element);\n",
              "        const docLink = document.createElement('div');\n",
              "        docLink.innerHTML = docLinkHtml;\n",
              "        element.appendChild(docLink);\n",
              "      }\n",
              "    </script>\n",
              "  </div>\n",
              "\n",
              "\n",
              "    <div id=\"df-a5743164-c2ed-436e-abdc-b3f62de87b38\">\n",
              "      <button class=\"colab-df-quickchart\" onclick=\"quickchart('df-a5743164-c2ed-436e-abdc-b3f62de87b38')\"\n",
              "                title=\"Suggest charts\"\n",
              "                style=\"display:none;\">\n",
              "\n",
              "<svg xmlns=\"http://www.w3.org/2000/svg\" height=\"24px\"viewBox=\"0 0 24 24\"\n",
              "     width=\"24px\">\n",
              "    <g>\n",
              "        <path d=\"M19 3H5c-1.1 0-2 .9-2 2v14c0 1.1.9 2 2 2h14c1.1 0 2-.9 2-2V5c0-1.1-.9-2-2-2zM9 17H7v-7h2v7zm4 0h-2V7h2v10zm4 0h-2v-4h2v4z\"/>\n",
              "    </g>\n",
              "</svg>\n",
              "      </button>\n",
              "\n",
              "<style>\n",
              "  .colab-df-quickchart {\n",
              "      --bg-color: #E8F0FE;\n",
              "      --fill-color: #1967D2;\n",
              "      --hover-bg-color: #E2EBFA;\n",
              "      --hover-fill-color: #174EA6;\n",
              "      --disabled-fill-color: #AAA;\n",
              "      --disabled-bg-color: #DDD;\n",
              "  }\n",
              "\n",
              "  [theme=dark] .colab-df-quickchart {\n",
              "      --bg-color: #3B4455;\n",
              "      --fill-color: #D2E3FC;\n",
              "      --hover-bg-color: #434B5C;\n",
              "      --hover-fill-color: #FFFFFF;\n",
              "      --disabled-bg-color: #3B4455;\n",
              "      --disabled-fill-color: #666;\n",
              "  }\n",
              "\n",
              "  .colab-df-quickchart {\n",
              "    background-color: var(--bg-color);\n",
              "    border: none;\n",
              "    border-radius: 50%;\n",
              "    cursor: pointer;\n",
              "    display: none;\n",
              "    fill: var(--fill-color);\n",
              "    height: 32px;\n",
              "    padding: 0;\n",
              "    width: 32px;\n",
              "  }\n",
              "\n",
              "  .colab-df-quickchart:hover {\n",
              "    background-color: var(--hover-bg-color);\n",
              "    box-shadow: 0 1px 2px rgba(60, 64, 67, 0.3), 0 1px 3px 1px rgba(60, 64, 67, 0.15);\n",
              "    fill: var(--button-hover-fill-color);\n",
              "  }\n",
              "\n",
              "  .colab-df-quickchart-complete:disabled,\n",
              "  .colab-df-quickchart-complete:disabled:hover {\n",
              "    background-color: var(--disabled-bg-color);\n",
              "    fill: var(--disabled-fill-color);\n",
              "    box-shadow: none;\n",
              "  }\n",
              "\n",
              "  .colab-df-spinner {\n",
              "    border: 2px solid var(--fill-color);\n",
              "    border-color: transparent;\n",
              "    border-bottom-color: var(--fill-color);\n",
              "    animation:\n",
              "      spin 1s steps(1) infinite;\n",
              "  }\n",
              "\n",
              "  @keyframes spin {\n",
              "    0% {\n",
              "      border-color: transparent;\n",
              "      border-bottom-color: var(--fill-color);\n",
              "      border-left-color: var(--fill-color);\n",
              "    }\n",
              "    20% {\n",
              "      border-color: transparent;\n",
              "      border-left-color: var(--fill-color);\n",
              "      border-top-color: var(--fill-color);\n",
              "    }\n",
              "    30% {\n",
              "      border-color: transparent;\n",
              "      border-left-color: var(--fill-color);\n",
              "      border-top-color: var(--fill-color);\n",
              "      border-right-color: var(--fill-color);\n",
              "    }\n",
              "    40% {\n",
              "      border-color: transparent;\n",
              "      border-right-color: var(--fill-color);\n",
              "      border-top-color: var(--fill-color);\n",
              "    }\n",
              "    60% {\n",
              "      border-color: transparent;\n",
              "      border-right-color: var(--fill-color);\n",
              "    }\n",
              "    80% {\n",
              "      border-color: transparent;\n",
              "      border-right-color: var(--fill-color);\n",
              "      border-bottom-color: var(--fill-color);\n",
              "    }\n",
              "    90% {\n",
              "      border-color: transparent;\n",
              "      border-bottom-color: var(--fill-color);\n",
              "    }\n",
              "  }\n",
              "</style>\n",
              "\n",
              "      <script>\n",
              "        async function quickchart(key) {\n",
              "          const quickchartButtonEl =\n",
              "            document.querySelector('#' + key + ' button');\n",
              "          quickchartButtonEl.disabled = true;  // To prevent multiple clicks.\n",
              "          quickchartButtonEl.classList.add('colab-df-spinner');\n",
              "          try {\n",
              "            const charts = await google.colab.kernel.invokeFunction(\n",
              "                'suggestCharts', [key], {});\n",
              "          } catch (error) {\n",
              "            console.error('Error during call to suggestCharts:', error);\n",
              "          }\n",
              "          quickchartButtonEl.classList.remove('colab-df-spinner');\n",
              "          quickchartButtonEl.classList.add('colab-df-quickchart-complete');\n",
              "        }\n",
              "        (() => {\n",
              "          let quickchartButtonEl =\n",
              "            document.querySelector('#df-a5743164-c2ed-436e-abdc-b3f62de87b38 button');\n",
              "          quickchartButtonEl.style.display =\n",
              "            google.colab.kernel.accessAllowed ? 'block' : 'none';\n",
              "        })();\n",
              "      </script>\n",
              "    </div>\n",
              "\n",
              "    </div>\n",
              "  </div>\n"
            ],
            "application/vnd.google.colaboratory.intrinsic+json": {
              "type": "dataframe",
              "variable_name": "x",
              "summary": "{\n  \"name\": \"x\",\n  \"rows\": 2304,\n  \"fields\": [\n    {\n      \"column\": \"Age\",\n      \"properties\": {\n        \"dtype\": \"number\",\n        \"std\": 20,\n        \"min\": 20,\n        \"max\": 90,\n        \"num_unique_values\": 71,\n        \"samples\": [\n          26,\n          71,\n          31\n        ],\n        \"semantic_type\": \"\",\n        \"description\": \"\"\n      }\n    },\n    {\n      \"column\": \"Creatinine_Level\",\n      \"properties\": {\n        \"dtype\": \"number\",\n        \"std\": 0.7895938105326751,\n        \"min\": 0.3,\n        \"max\": 4.13,\n        \"num_unique_values\": 305,\n        \"samples\": [\n          2.48,\n          1.58,\n          1.3\n        ],\n        \"semantic_type\": \"\",\n        \"description\": \"\"\n      }\n    },\n    {\n      \"column\": \"BUN\",\n      \"properties\": {\n        \"dtype\": \"number\",\n        \"std\": 10.508358217001403,\n        \"min\": 5.0,\n        \"max\": 61.9,\n        \"num_unique_values\": 394,\n        \"samples\": [\n          33.9,\n          10.0,\n          39.6\n        ],\n        \"semantic_type\": \"\",\n        \"description\": \"\"\n      }\n    },\n    {\n      \"column\": \"Diabetes\",\n      \"properties\": {\n        \"dtype\": \"number\",\n        \"std\": 0,\n        \"min\": 0,\n        \"max\": 1,\n        \"num_unique_values\": 2,\n        \"samples\": [\n          1,\n          0\n        ],\n        \"semantic_type\": \"\",\n        \"description\": \"\"\n      }\n    },\n    {\n      \"column\": \"Hypertension\",\n      \"properties\": {\n        \"dtype\": \"number\",\n        \"std\": 0,\n        \"min\": 0,\n        \"max\": 1,\n        \"num_unique_values\": 2,\n        \"samples\": [\n          0,\n          1\n        ],\n        \"semantic_type\": \"\",\n        \"description\": \"\"\n      }\n    },\n    {\n      \"column\": \"GFR\",\n      \"properties\": {\n        \"dtype\": \"number\",\n        \"std\": 24.66019068481959,\n        \"min\": 5.0,\n        \"max\": 120.0,\n        \"num_unique_values\": 857,\n        \"samples\": [\n          74.7,\n          49.4\n        ],\n        \"semantic_type\": \"\",\n        \"description\": \"\"\n      }\n    },\n    {\n      \"column\": \"Urine_Output\",\n      \"properties\": {\n        \"dtype\": \"number\",\n        \"std\": 491.9519144298801,\n        \"min\": 100.0,\n        \"max\": 2899.0,\n        \"num_unique_values\": 1301,\n        \"samples\": [\n          2115.0,\n          1370.0\n        ],\n        \"semantic_type\": \"\",\n        \"description\": \"\"\n      }\n    },\n    {\n      \"column\": \"CKD_Status\",\n      \"properties\": {\n        \"dtype\": \"number\",\n        \"std\": 0,\n        \"min\": 0,\n        \"max\": 1,\n        \"num_unique_values\": 2,\n        \"samples\": [\n          0,\n          1\n        ],\n        \"semantic_type\": \"\",\n        \"description\": \"\"\n      }\n    }\n  ]\n}"
            }
          },
          "metadata": {},
          "execution_count": 33
        }
      ]
    },
    {
      "cell_type": "code",
      "source": [
        "from sklearn.model_selection import train_test_split\n",
        "x_train, x_test, y_train, y_test = train_test_split(x, y, test_size=0.2, random_state=42)\n"
      ],
      "metadata": {
        "id": "plVsEJBm88pT"
      },
      "execution_count": 34,
      "outputs": []
    },
    {
      "cell_type": "code",
      "source": [
        "from sklearn.preprocessing import StandardScaler\n",
        "scaler = StandardScaler()\n",
        "x_train_scaled = scaler.fit_transform(x_train)\n",
        "x_test_scaled = scaler.transform(x_test)"
      ],
      "metadata": {
        "id": "Qno1z_8Z_JPq"
      },
      "execution_count": 35,
      "outputs": []
    },
    {
      "cell_type": "code",
      "source": [
        "from sklearn.linear_model import LogisticRegression\n",
        "model = LogisticRegression()\n",
        "model.fit(x_train_scaled, y_train)\n",
        "y_pred = model.predict(x_test_scaled)"
      ],
      "metadata": {
        "id": "6Y5PN4zA_Z1W"
      },
      "execution_count": 36,
      "outputs": []
    },
    {
      "cell_type": "code",
      "source": [
        "from sklearn.metrics import accuracy_score, confusion_matrix, classification_report\n",
        "accuracy = accuracy_score(y_test, y_pred)\n",
        "conf_matrix = confusion_matrix(y_test, y_pred)\n",
        "class_report = classification_report(y_test, y_pred)\n",
        "print(\"Accuracy:\", accuracy)\n",
        "print(\"Confusion Matrix:\\n\", conf_matrix)\n",
        "print(\"Classification Report:\\n\", class_report)\n",
        "\n"
      ],
      "metadata": {
        "colab": {
          "base_uri": "https://localhost:8080/"
        },
        "id": "1Gkg_bSs_fr1",
        "outputId": "55bde10e-6e2a-4c98-a6ae-d7dd4e40158b"
      },
      "execution_count": 37,
      "outputs": [
        {
          "output_type": "stream",
          "name": "stdout",
          "text": [
            "Accuracy: 0.9956616052060737\n",
            "Confusion Matrix:\n",
            " [[455   0]\n",
            " [  2   4]]\n",
            "Classification Report:\n",
            "               precision    recall  f1-score   support\n",
            "\n",
            "           0       1.00      1.00      1.00       455\n",
            "           1       1.00      0.67      0.80         6\n",
            "\n",
            "    accuracy                           1.00       461\n",
            "   macro avg       1.00      0.83      0.90       461\n",
            "weighted avg       1.00      1.00      1.00       461\n",
            "\n"
          ]
        }
      ]
    },
    {
      "cell_type": "markdown",
      "metadata": {
        "id": "23a21b66"
      },
      "source": [
        "# Task\n",
        "Explain how to deploy or test a trained machine learning model for training purposes, including saving and loading the model and scaler, preparing new data, and making predictions."
      ]
    },
    {
      "cell_type": "markdown",
      "metadata": {
        "id": "acf6f3ab"
      },
      "source": [
        "## Evaluate the model\n",
        "\n",
        "### Subtask:\n",
        "Further evaluate the model using different metrics suitable for imbalanced datasets (since the confusion matrix shows a high number of true negatives and very few true positives).\n"
      ]
    },
    {
      "cell_type": "markdown",
      "metadata": {
        "id": "c03a8f1a"
      },
      "source": [
        "**Reasoning**:\n",
        "Calculate and print the F1-score for the positive class and the AUC-ROC score to further evaluate the model on the imbalanced dataset.\n",
        "\n"
      ]
    },
    {
      "cell_type": "code",
      "metadata": {
        "colab": {
          "base_uri": "https://localhost:8080/"
        },
        "id": "9ccaf573",
        "outputId": "71402ccc-7fc8-4bc0-f4db-830c4df6c4dc"
      },
      "source": [
        "from sklearn.metrics import roc_auc_score\n",
        "\n",
        "# Calculate F1-score for the positive class (class 1) from the classification report\n",
        "# The classification_report function already provides the F1-score for each class.\n",
        "# We can extract it from the printed report or re-calculate it using precision and recall.\n",
        "# Let's extract it from the already computed classification_report string for simplicity.\n",
        "# We can also calculate it directly using f1_score function if needed.\n",
        "# From the previous output, the F1-score for class 1 is 0.80.\n",
        "\n",
        "# To be more robust, let's use the f1_score function directly.\n",
        "from sklearn.metrics import f1_score\n",
        "f1_pos_class = f1_score(y_test, y_pred, pos_label=1)\n",
        "print(\"F1-score for the positive class (Dialysis Needed = 1):\", f1_pos_class)\n",
        "\n",
        "# Calculate AUC-ROC score\n",
        "# We need the predicted probabilities for the positive class\n",
        "y_pred_proba = model.predict_proba(x_test_scaled)[:, 1]\n",
        "auc_roc = roc_auc_score(y_test, y_pred_proba)\n",
        "print(\"AUC-ROC score:\", auc_roc)"
      ],
      "execution_count": 39,
      "outputs": [
        {
          "output_type": "stream",
          "name": "stdout",
          "text": [
            "F1-score for the positive class (Dialysis Needed = 1): 0.8\n",
            "AUC-ROC score: 0.9992673992673993\n"
          ]
        }
      ]
    },
    {
      "cell_type": "markdown",
      "metadata": {
        "id": "8e1174aa"
      },
      "source": [
        "## Save the model\n",
        "\n",
        "### Subtask:\n",
        "Save the trained model and the scaler object to files.\n"
      ]
    },
    {
      "cell_type": "markdown",
      "metadata": {
        "id": "3fd7aa4a"
      },
      "source": [
        "**Reasoning**:\n",
        "Import the joblib library to save the model and scaler objects.\n",
        "\n"
      ]
    },
    {
      "cell_type": "code",
      "metadata": {
        "id": "bf410a16"
      },
      "source": [
        "import joblib"
      ],
      "execution_count": 40,
      "outputs": []
    },
    {
      "cell_type": "markdown",
      "metadata": {
        "id": "f2fa9175"
      },
      "source": [
        "**Reasoning**:\n",
        "Save the trained logistic regression model and the fitted scaler object to files using joblib.dump().\n",
        "\n"
      ]
    },
    {
      "cell_type": "code",
      "metadata": {
        "colab": {
          "base_uri": "https://localhost:8080/"
        },
        "id": "82d1d169",
        "outputId": "6b6656ee-2c2a-45c1-d8a6-a10127a3ea51"
      },
      "source": [
        "joblib.dump(model, 'logistic_regression_model.joblib')\n",
        "joblib.dump(scaler, 'scaler.joblib')"
      ],
      "execution_count": 41,
      "outputs": [
        {
          "output_type": "execute_result",
          "data": {
            "text/plain": [
              "['scaler.joblib']"
            ]
          },
          "metadata": {},
          "execution_count": 41
        }
      ]
    },
    {
      "cell_type": "markdown",
      "metadata": {
        "id": "6cfecf58"
      },
      "source": [
        "## Load the model and scaler\n",
        "\n",
        "### Subtask:\n",
        "Load the saved model and scaler objects in a new environment or script.\n"
      ]
    },
    {
      "cell_type": "markdown",
      "metadata": {
        "id": "f596f50c"
      },
      "source": [
        "**Reasoning**:\n",
        "Load the saved model and scaler objects using joblib.\n",
        "\n"
      ]
    },
    {
      "cell_type": "code",
      "metadata": {
        "id": "3741d725"
      },
      "source": [
        "loaded_model = joblib.load('logistic_regression_model.joblib')\n",
        "loaded_scaler = joblib.load('scaler.joblib')"
      ],
      "execution_count": 42,
      "outputs": []
    },
    {
      "cell_type": "markdown",
      "metadata": {
        "id": "4a60cfe4"
      },
      "source": [
        "## Prepare new data for prediction\n",
        "\n",
        "### Subtask:\n",
        "Take new, unseen data and preprocess it using the loaded scaler.\n"
      ]
    },
    {
      "cell_type": "markdown",
      "metadata": {
        "id": "18d55a2f"
      },
      "source": [
        "**Reasoning**:\n",
        "Create new data and preprocess it using the loaded scaler.\n",
        "\n"
      ]
    },
    {
      "cell_type": "code",
      "metadata": {
        "colab": {
          "base_uri": "https://localhost:8080/",
          "height": 213
        },
        "id": "d3652170",
        "outputId": "0c88e8bb-2991-480c-a595-60952fa820b8"
      },
      "source": [
        "print(\"Enter data for a new patient:\")\n",
        "\n",
        "# Get input for each feature\n",
        "age = float(input(\"Age: \"))\n",
        "creatinine_level = float(input(\"Creatinine Level: \"))\n",
        "bun = float(input(\"BUN: \"))\n",
        "diabetes = int(input(\"Diabetes (0 for No, 1 for Yes): \"))\n",
        "hypertension = int(input(\"Hypertension (0 for No, 1 for Yes): \"))\n",
        "gfr = float(input(\"GFR: \"))\n",
        "urine_output = float(input(\"Urine Output: \"))\n",
        "ckd_status = int(input(\"CKD Status (0 for No CKD, 1 for CKD): \"))\n",
        "\n",
        "\n",
        "new_data = pd.DataFrame({\n",
        "    'Age': [age],\n",
        "    'Creatinine_Level': [creatinine_level],\n",
        "    'BUN': [bun],\n",
        "    'Diabetes': [diabetes],\n",
        "    'Hypertension': [hypertension],\n",
        "    'GFR': [gfr],\n",
        "    'Urine_Output': [urine_output],\n",
        "    'CKD_Status': [ckd_status]\n",
        "})\n",
        "\n",
        "new_data_scaled = loaded_scaler.transform(new_data)\n",
        "display(new_data_scaled)"
      ],
      "execution_count": 47,
      "outputs": [
        {
          "name": "stdout",
          "output_type": "stream",
          "text": [
            "Enter data for a new patient:\n",
            "Age: 56\n",
            "Creatinine Level: 4\n",
            "BUN: 34\n",
            "Diabetes (0 for No, 1 for Yes): 1\n",
            "Hypertension (0 for No, 1 for Yes): 1\n",
            "GFR: 23\n",
            "Urine Output: 23\n",
            "CKD Status (0 for No CKD, 1 for CKD): 1\n"
          ]
        },
        {
          "output_type": "display_data",
          "data": {
            "text/plain": [
              "array([[ 0.08349871,  3.39974919,  1.43442744,  1.2264078 ,  1.0180688 ,\n",
              "        -1.87315904, -2.59713504,  0.97481514]])"
            ]
          },
          "metadata": {}
        }
      ]
    },
    {
      "cell_type": "markdown",
      "metadata": {
        "id": "b5de16d6"
      },
      "source": [
        "## Make predictions\n",
        "\n",
        "### Subtask:\n",
        "Use the loaded model to make predictions on the preprocessed new data.\n"
      ]
    },
    {
      "cell_type": "markdown",
      "metadata": {
        "id": "08799b70"
      },
      "source": [
        "**Reasoning**:\n",
        "Use the loaded model to make predictions on the scaled new data and store the results.\n",
        "\n"
      ]
    },
    {
      "cell_type": "code",
      "metadata": {
        "colab": {
          "base_uri": "https://localhost:8080/"
        },
        "id": "5430a551",
        "outputId": "e68b54d0-881c-4755-9a28-59533102fe6b"
      },
      "source": [
        "predictions = loaded_model.predict(new_data_scaled)\n",
        "print(predictions)"
      ],
      "execution_count": 44,
      "outputs": [
        {
          "output_type": "stream",
          "name": "stdout",
          "text": [
            "[0 0 0]\n"
          ]
        }
      ]
    },
    {
      "cell_type": "markdown",
      "metadata": {
        "id": "609c5155"
      },
      "source": [
        "## Deploy the model (optional)\n",
        "\n",
        "### Subtask:\n",
        "Discuss potential deployment strategies, such as creating a web application or integrating it into an existing system.\n"
      ]
    },
    {
      "cell_type": "markdown",
      "metadata": {
        "id": "a4347d9e"
      },
      "source": [
        "**Reasoning**:\n",
        "Briefly explain model deployment and describe two deployment strategies with key considerations for each.\n",
        "\n"
      ]
    },
    {
      "cell_type": "code",
      "metadata": {
        "colab": {
          "base_uri": "https://localhost:8080/"
        },
        "id": "0ed391ac",
        "outputId": "a4d38aeb-1102-47ec-c89c-6b17a2e47429"
      },
      "source": [
        "print(\"Model deployment refers to the process of integrating a trained machine learning model into an existing production environment where it can receive new data and make predictions in real-time or in batches.\")\n",
        "print(\"\\nTwo potential strategies for deploying this logistic regression model for predicting the need for dialysis are:\")\n",
        "print(\"\\n1. Web Application:\")\n",
        "print(\"   - Description: Deploy the model as a web service with an API endpoint.\")\n",
        "print(\"   - Key Components/Considerations:\")\n",
        "print(\"     - Web Framework: Use a framework like Flask or Django to build the web application.\")\n",
        "print(\"     - API Endpoint: Create an endpoint (e.g., /predict) that receives patient data (likely in JSON format).\")\n",
        "print(\"     - Data Preprocessing: The application needs to include the loaded scaler to preprocess incoming data before feeding it to the model.\")\n",
        "print(\"     - Model Loading: The trained model needs to be loaded when the application starts.\")\n",
        "print(\"     - Scalability: Consider how the application will handle multiple requests simultaneously.\")\n",
        "print(\"     - Security: Ensure the API is secure to protect sensitive patient data.\")\n",
        "print(\"\\n2. Integration into an Electronic Health Record (EHR) System:\")\n",
        "print(\"   - Description: Integrate the model's prediction capabilities directly into a hospital's existing EHR system.\")\n",
        "print(\"   - Key Components/Considerations:\")\n",
        "print(\"     - Data Pipelines: Establish secure and efficient data pipelines to feed patient data from the EHR to the model.\")\n",
        "print(\"     - Compatibility: Ensure the model and its dependencies are compatible with the EHR system's infrastructure and data formats.\")\n",
        "print(\"     - API or SDK: The EHR system might use an API or SDK for integrating external services.\")\n",
        "print(\"     - Real-time or Batch Processing: Determine if predictions are needed in real-time (e.g., during a patient visit) or can be processed in batches.\")\n",
        "print(\"     - Workflow Integration: Design how the model's predictions will be presented to healthcare professionals within the EHR workflow.\")\n",
        "print(\"     - Regulatory Compliance: Ensure the deployment adheres to healthcare data regulations (e.g., HIPAA).\")"
      ],
      "execution_count": 45,
      "outputs": [
        {
          "output_type": "stream",
          "name": "stdout",
          "text": [
            "Model deployment refers to the process of integrating a trained machine learning model into an existing production environment where it can receive new data and make predictions in real-time or in batches.\n",
            "\n",
            "Two potential strategies for deploying this logistic regression model for predicting the need for dialysis are:\n",
            "\n",
            "1. Web Application:\n",
            "   - Description: Deploy the model as a web service with an API endpoint.\n",
            "   - Key Components/Considerations:\n",
            "     - Web Framework: Use a framework like Flask or Django to build the web application.\n",
            "     - API Endpoint: Create an endpoint (e.g., /predict) that receives patient data (likely in JSON format).\n",
            "     - Data Preprocessing: The application needs to include the loaded scaler to preprocess incoming data before feeding it to the model.\n",
            "     - Model Loading: The trained model needs to be loaded when the application starts.\n",
            "     - Scalability: Consider how the application will handle multiple requests simultaneously.\n",
            "     - Security: Ensure the API is secure to protect sensitive patient data.\n",
            "\n",
            "2. Integration into an Electronic Health Record (EHR) System:\n",
            "   - Description: Integrate the model's prediction capabilities directly into a hospital's existing EHR system.\n",
            "   - Key Components/Considerations:\n",
            "     - Data Pipelines: Establish secure and efficient data pipelines to feed patient data from the EHR to the model.\n",
            "     - Compatibility: Ensure the model and its dependencies are compatible with the EHR system's infrastructure and data formats.\n",
            "     - API or SDK: The EHR system might use an API or SDK for integrating external services.\n",
            "     - Real-time or Batch Processing: Determine if predictions are needed in real-time (e.g., during a patient visit) or can be processed in batches.\n",
            "     - Workflow Integration: Design how the model's predictions will be presented to healthcare professionals within the EHR workflow.\n",
            "     - Regulatory Compliance: Ensure the deployment adheres to healthcare data regulations (e.g., HIPAA).\n"
          ]
        }
      ]
    },
    {
      "cell_type": "markdown",
      "metadata": {
        "id": "661f3994"
      },
      "source": [
        "## Summary:\n",
        "\n",
        "### Data Analysis Key Findings\n",
        "\n",
        "*   The F1-score for the positive class (Dialysis Needed = 1) is 0.80, and the AUC-ROC score is 0.9993, indicating good performance on the imbalanced dataset.\n",
        "*   The trained logistic regression model and the fitted scaler were successfully saved to `logistic_regression_model.joblib` and `scaler.joblib` files.\n",
        "*   The saved model and scaler were successfully loaded, ready for use in a new environment.\n",
        "*   New sample data was successfully created and preprocessed using the loaded scaler.\n",
        "*   The loaded model predicted \"0\" (no dialysis needed) for all three data points in the new sample data.\n",
        "*   Potential deployment strategies discussed include deploying as a web application using frameworks like Flask or Django with an API endpoint, and integrating directly into an Electronic Health Record (EHR) system, considering data pipelines, compatibility, and regulatory compliance.\n",
        "\n",
        "### Insights or Next Steps\n",
        "\n",
        "*   The high AUC-ROC suggests the model is very good at distinguishing between patients who need dialysis and those who don't based on the provided features.\n",
        "*   The saved model and scaler are ready to be integrated into a production environment, either as a standalone service or part of a larger healthcare system application.\n"
      ]
    },
    {
      "cell_type": "markdown",
      "metadata": {
        "id": "600e7af8"
      },
      "source": [
        "## Evaluate the model\n",
        "\n",
        "### Subtask:\n",
        "Further evaluate the model using different metrics suitable for imbalanced datasets (since the confusion matrix shows a high number of true negatives and very few true positives)."
      ]
    },
    {
      "cell_type": "markdown",
      "metadata": {
        "id": "65107aea"
      },
      "source": [
        "**Reasoning**:\n",
        "Calculate and print the F1-score for the positive class and the AUC-ROC score to further evaluate the model on the imbalanced dataset."
      ]
    },
    {
      "cell_type": "code",
      "metadata": {
        "colab": {
          "base_uri": "https://localhost:8080/"
        },
        "id": "3bbebece",
        "outputId": "a148b582-1d89-4840-d0af-b17e32e754ee"
      },
      "source": [
        "from sklearn.metrics import roc_auc_score\n",
        "\n",
        "# Calculate F1-score for the positive class (class 1) from the classification report\n",
        "# The classification_report function already provides the F1-score for each class.\n",
        "# We can extract it from the printed report or re-calculate it using precision and recall.\n",
        "# Let's extract it from the already computed classification_report string for simplicity.\n",
        "# We can also calculate it directly using f1_score function if needed.\n",
        "# From the previous output, the F1-score for class 1 is 0.80.\n",
        "\n",
        "# To be more robust, let's use the f1_score function directly.\n",
        "from sklearn.metrics import f1_score\n",
        "f1_pos_class = f1_score(y_test, y_pred, pos_label=1)\n",
        "print(\"F1-score for the positive class (Dialysis Needed = 1):\", f1_pos_class)\n",
        "\n",
        "# Calculate AUC-ROC score\n",
        "# We need the predicted probabilities for the positive class\n",
        "y_pred_proba = model.predict_proba(x_test_scaled)[:, 1]\n",
        "auc_roc = roc_auc_score(y_test, y_pred_proba)\n",
        "print(\"AUC-ROC score:\", auc_roc)"
      ],
      "execution_count": 46,
      "outputs": [
        {
          "output_type": "stream",
          "name": "stdout",
          "text": [
            "F1-score for the positive class (Dialysis Needed = 1): 0.8\n",
            "AUC-ROC score: 0.9992673992673993\n"
          ]
        }
      ]
    },
    {
      "cell_type": "markdown",
      "metadata": {
        "id": "21cfa29f"
      },
      "source": [
        "## Save the model\n",
        "\n",
        "### Subtask:\n",
        "Save the trained model and the scaler object to files."
      ]
    },
    {
      "cell_type": "markdown",
      "metadata": {
        "id": "3f2a1cb8"
      },
      "source": [
        "## Make predictions\n",
        "\n",
        "### Subtask:\n",
        "Use the loaded model to make predictions on the preprocessed new data."
      ]
    },
    {
      "cell_type": "markdown",
      "metadata": {
        "id": "cd833465"
      },
      "source": [
        "**Reasoning**:\n",
        "Use the loaded model to make predictions on the scaled new data and store the results."
      ]
    },
    {
      "cell_type": "code",
      "metadata": {
        "colab": {
          "base_uri": "https://localhost:8080/"
        },
        "id": "66e951e7",
        "outputId": "f25b96e9-c03d-4dae-88f0-6ba0b90c5293"
      },
      "source": [
        "predictions = loaded_model.predict(new_data_scaled)\n",
        "print(predictions)"
      ],
      "execution_count": 49,
      "outputs": [
        {
          "output_type": "stream",
          "name": "stdout",
          "text": [
            "[0]\n"
          ]
        }
      ]
    },
    {
      "cell_type": "markdown",
      "metadata": {
        "id": "09a603b6"
      },
      "source": [
        "## Deploy the model (optional)\n",
        "\n",
        "### Subtask:\n",
        "Discuss potential deployment strategies, such as creating a web application or integrating it into an existing system."
      ]
    },
    {
      "cell_type": "markdown",
      "metadata": {
        "id": "71c98054"
      },
      "source": [
        "**Reasoning**:\n",
        "Briefly explain model deployment and describe two deployment strategies with key considerations for each."
      ]
    },
    {
      "cell_type": "code",
      "metadata": {
        "colab": {
          "base_uri": "https://localhost:8080/"
        },
        "id": "55bbd70d",
        "outputId": "031b3cbe-e096-4c61-af54-6fd69e13f671"
      },
      "source": [
        "print(\"Model deployment refers to the process of integrating a trained machine learning model into an existing production environment where it can receive new data and make predictions in real-time or in batches.\")\n",
        "print(\"\\nTwo potential strategies for deploying this logistic regression model for predicting the need for dialysis are:\")\n",
        "print(\"\\n1. Web Application:\")\n",
        "print(\"   - Description: Deploy the model as a web service with an API endpoint.\")\n",
        "print(\"   - Key Components/Considerations:\")\n",
        "print(\"     - Web Framework: Use a framework like Flask or Django to build the web application.\")\n",
        "print(\"     - API Endpoint: Create an endpoint (e.g., /predict) that receives patient data (likely in JSON format).\")\n",
        "print(\"     - Data Preprocessing: The application needs to include the loaded scaler to preprocess incoming data before feeding it to the model.\")\n",
        "print(\"     - Model Loading: The trained model needs to be loaded when the application starts.\")\n",
        "print(\"     - Scalability: Consider how the application will handle multiple requests simultaneously.\")\n",
        "print(\"     - Security: Ensure the API is secure to protect sensitive patient data.\")\n",
        "print(\"\\n2. Integration into an Electronic Health Record (EHR) System:\")\n",
        "print(\"   - Description: Integrate the model's prediction capabilities directly into a hospital's existing EHR system.\")\n",
        "print(\"   - Key Components/Considerations:\")\n",
        "print(\"     - Data Pipelines: Establish secure and efficient data pipelines to feed patient data from the EHR to the model.\")\n",
        "print(\"     - Compatibility: Ensure the model and its dependencies are compatible with the EHR system's infrastructure and data formats.\")\n",
        "print(\"     - API or SDK: The EHR system might use an API or SDK for integrating external services.\")\n",
        "print(\"     - Real-time or Batch Processing: Determine if predictions are needed in real-time (e.g., during a patient visit) or can be processed in batches.\")\n",
        "print(\"     - Workflow Integration: Design how the model's predictions will be presented to healthcare professionals within the EHR workflow.\")\n",
        "print(\"     - Regulatory Compliance: Ensure the deployment adheres to healthcare data regulations (e.g., HIPAA).\")"
      ],
      "execution_count": 52,
      "outputs": [
        {
          "output_type": "stream",
          "name": "stdout",
          "text": [
            "Model deployment refers to the process of integrating a trained machine learning model into an existing production environment where it can receive new data and make predictions in real-time or in batches.\n",
            "\n",
            "Two potential strategies for deploying this logistic regression model for predicting the need for dialysis are:\n",
            "\n",
            "1. Web Application:\n",
            "   - Description: Deploy the model as a web service with an API endpoint.\n",
            "   - Key Components/Considerations:\n",
            "     - Web Framework: Use a framework like Flask or Django to build the web application.\n",
            "     - API Endpoint: Create an endpoint (e.g., /predict) that receives patient data (likely in JSON format).\n",
            "     - Data Preprocessing: The application needs to include the loaded scaler to preprocess incoming data before feeding it to the model.\n",
            "     - Model Loading: The trained model needs to be loaded when the application starts.\n",
            "     - Scalability: Consider how the application will handle multiple requests simultaneously.\n",
            "     - Security: Ensure the API is secure to protect sensitive patient data.\n",
            "\n",
            "2. Integration into an Electronic Health Record (EHR) System:\n",
            "   - Description: Integrate the model's prediction capabilities directly into a hospital's existing EHR system.\n",
            "   - Key Components/Considerations:\n",
            "     - Data Pipelines: Establish secure and efficient data pipelines to feed patient data from the EHR to the model.\n",
            "     - Compatibility: Ensure the model and its dependencies are compatible with the EHR system's infrastructure and data formats.\n",
            "     - API or SDK: The EHR system might use an API or SDK for integrating external services.\n",
            "     - Real-time or Batch Processing: Determine if predictions are needed in real-time (e.g., during a patient visit) or can be processed in batches.\n",
            "     - Workflow Integration: Design how the model's predictions will be presented to healthcare professionals within the EHR workflow.\n",
            "     - Regulatory Compliance: Ensure the deployment adheres to healthcare data regulations (e.g., HIPAA).\n"
          ]
        }
      ]
    },
    {
      "cell_type": "markdown",
      "metadata": {
        "id": "b5aaa48b"
      },
      "source": [
        "## Summary:\n",
        "\n",
        "### Data Analysis Key Findings\n",
        "\n",
        "* The F1-score for the positive class (Dialysis Needed = 1) is 0.80, and the AUC-ROC score is 0.9993, indicating good performance on the imbalanced dataset.\n",
        "* The trained logistic regression model and the fitted scaler were successfully saved to `logistic_regression_model.joblib` and `scaler.joblib` files.\n",
        "* The saved model and scaler were successfully loaded, ready for use in a new environment.\n",
        "* New sample data was successfully created and preprocessed using the loaded scaler.\n",
        "* The loaded model predicted \"0\" (no dialysis needed) for all three data points in the new sample data.\n",
        "* Potential deployment strategies discussed include deploying as a web application using frameworks like Flask or Django with an API endpoint, and integrating directly into an Electronic Health Record (EHR) system, considering data pipelines, compatibility, and regulatory compliance.\n",
        "\n",
        "### Insights or Next Steps\n",
        "\n",
        "* The high AUC-ROC suggests the model is very good at distinguishing between patients who need dialysis and those who don't based on the provided features.\n",
        "* The saved model and scaler are ready to be integrated into a production environment, either as a standalone service or part of a larger healthcare system application."
      ]
    }
  ]
}